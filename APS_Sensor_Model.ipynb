{
 "cells": [
  {
   "cell_type": "markdown",
   "id": "644800bf",
   "metadata": {},
   "source": [
    "## Importing required libraries for the project"
   ]
  },
  {
   "cell_type": "code",
   "execution_count": 1,
   "id": "e193f295",
   "metadata": {},
   "outputs": [],
   "source": [
    "import numpy as np\n",
    "import pandas as pd\n",
    "import seaborn as sns\n",
    "import matplotlib.pyplot as plt\n",
    "%matplotlib inline\n",
    "import warnings\n",
    "from statistics import mean\n",
    "from sklearn.preprocessing import LabelEncoder, OneHotEncoder, MinMaxScaler, StandardScaler, RobustScaler\n",
    "from sklearn.linear_model import LogisticRegression\n",
    "from sklearn.ensemble import RandomForestClassifier, GradientBoostingClassifier, AdaBoostClassifier\n",
    "from sklearn.neighbors import KNeighborsClassifier\n",
    "from sklearn.tree import DecisionTreeClassifier\n",
    "from sklearn.pipeline import Pipeline\n",
    "from sklearn.svm import SVC\n",
    "from sklearn.metrics import accuracy_score, classification_report, confusion_matrix, precision_score, recall_score, f1_score, roc_auc_score, roc_curve\n",
    "from sklearn.model_selection import train_test_split, cross_val_score\n",
    "from sklearn.impute import KNNImputer, SimpleImputer\n",
    "from xgboost import XGBClassifier\n",
    "from sklearn import metrics\n",
    "warnings.filterwarnings('ignore')"
   ]
  },
  {
   "cell_type": "markdown",
   "id": "2359cacf",
   "metadata": {},
   "source": [
    "### Importing the data set"
   ]
  },
  {
   "cell_type": "code",
   "execution_count": 2,
   "id": "30e16077",
   "metadata": {},
   "outputs": [
    {
     "name": "stdout",
     "output_type": "stream",
     "text": [
      " Volume in drive C has no label.\n",
      " Volume Serial Number is EEA7-55FE\n",
      "\n",
      " Directory of C:\\Users\\acer\\Desktop\\python 15th december\\Project\n",
      "\n",
      "10-06-2024  20:16    <DIR>          .\n",
      "15-05-2024  09:21    <DIR>          ..\n",
      "10-06-2024  20:16    <DIR>          .ipynb_checkpoints\n",
      "10-06-2024  20:16            54,709 APS_Sensor_Model.ipynb\n",
      "18-05-2024  22:12    <DIR>          Domain Specific Projects\n",
      "06-06-2024  17:20            84,530 EDA.ipynb\n",
      "22-05-2024  19:39        26,974,483 sensor.csv\n",
      "               3 File(s)     27,113,722 bytes\n",
      "               4 Dir(s)  123,470,737,408 bytes free\n"
     ]
    }
   ],
   "source": [
    "ls"
   ]
  },
  {
   "cell_type": "code",
   "execution_count": 3,
   "id": "6b362db9",
   "metadata": {},
   "outputs": [],
   "source": [
    "sensor = pd.read_csv('sensor.csv', na_values= 'na')"
   ]
  },
  {
   "cell_type": "code",
   "execution_count": 4,
   "id": "29244fb9",
   "metadata": {},
   "outputs": [
    {
     "data": {
      "text/html": [
       "<div>\n",
       "<style scoped>\n",
       "    .dataframe tbody tr th:only-of-type {\n",
       "        vertical-align: middle;\n",
       "    }\n",
       "\n",
       "    .dataframe tbody tr th {\n",
       "        vertical-align: top;\n",
       "    }\n",
       "\n",
       "    .dataframe thead th {\n",
       "        text-align: right;\n",
       "    }\n",
       "</style>\n",
       "<table border=\"1\" class=\"dataframe\">\n",
       "  <thead>\n",
       "    <tr style=\"text-align: right;\">\n",
       "      <th></th>\n",
       "      <th>class</th>\n",
       "      <th>aa_000</th>\n",
       "      <th>ab_000</th>\n",
       "      <th>ac_000</th>\n",
       "      <th>ad_000</th>\n",
       "      <th>ae_000</th>\n",
       "      <th>af_000</th>\n",
       "      <th>ag_000</th>\n",
       "      <th>ag_001</th>\n",
       "      <th>ag_002</th>\n",
       "      <th>...</th>\n",
       "      <th>ee_002</th>\n",
       "      <th>ee_003</th>\n",
       "      <th>ee_004</th>\n",
       "      <th>ee_005</th>\n",
       "      <th>ee_006</th>\n",
       "      <th>ee_007</th>\n",
       "      <th>ee_008</th>\n",
       "      <th>ee_009</th>\n",
       "      <th>ef_000</th>\n",
       "      <th>eg_000</th>\n",
       "    </tr>\n",
       "  </thead>\n",
       "  <tbody>\n",
       "    <tr>\n",
       "      <th>0</th>\n",
       "      <td>pos</td>\n",
       "      <td>153204</td>\n",
       "      <td>0.0</td>\n",
       "      <td>182.0</td>\n",
       "      <td>NaN</td>\n",
       "      <td>0.0</td>\n",
       "      <td>0.0</td>\n",
       "      <td>0.0</td>\n",
       "      <td>0.0</td>\n",
       "      <td>0.0</td>\n",
       "      <td>...</td>\n",
       "      <td>129862.0</td>\n",
       "      <td>26872.0</td>\n",
       "      <td>34044.0</td>\n",
       "      <td>22472.0</td>\n",
       "      <td>34362.0</td>\n",
       "      <td>0.0</td>\n",
       "      <td>0.0</td>\n",
       "      <td>0.0</td>\n",
       "      <td>0.0</td>\n",
       "      <td>0.0</td>\n",
       "    </tr>\n",
       "    <tr>\n",
       "      <th>1</th>\n",
       "      <td>pos</td>\n",
       "      <td>453236</td>\n",
       "      <td>NaN</td>\n",
       "      <td>2926.0</td>\n",
       "      <td>NaN</td>\n",
       "      <td>0.0</td>\n",
       "      <td>0.0</td>\n",
       "      <td>0.0</td>\n",
       "      <td>0.0</td>\n",
       "      <td>222.0</td>\n",
       "      <td>...</td>\n",
       "      <td>7908038.0</td>\n",
       "      <td>3026002.0</td>\n",
       "      <td>5025350.0</td>\n",
       "      <td>2025766.0</td>\n",
       "      <td>1160638.0</td>\n",
       "      <td>533834.0</td>\n",
       "      <td>493800.0</td>\n",
       "      <td>6914.0</td>\n",
       "      <td>0.0</td>\n",
       "      <td>0.0</td>\n",
       "    </tr>\n",
       "    <tr>\n",
       "      <th>2</th>\n",
       "      <td>pos</td>\n",
       "      <td>72504</td>\n",
       "      <td>NaN</td>\n",
       "      <td>1594.0</td>\n",
       "      <td>1052.0</td>\n",
       "      <td>0.0</td>\n",
       "      <td>0.0</td>\n",
       "      <td>0.0</td>\n",
       "      <td>244.0</td>\n",
       "      <td>178226.0</td>\n",
       "      <td>...</td>\n",
       "      <td>1432098.0</td>\n",
       "      <td>372252.0</td>\n",
       "      <td>527514.0</td>\n",
       "      <td>358274.0</td>\n",
       "      <td>332818.0</td>\n",
       "      <td>284178.0</td>\n",
       "      <td>3742.0</td>\n",
       "      <td>0.0</td>\n",
       "      <td>0.0</td>\n",
       "      <td>0.0</td>\n",
       "    </tr>\n",
       "    <tr>\n",
       "      <th>3</th>\n",
       "      <td>pos</td>\n",
       "      <td>762958</td>\n",
       "      <td>NaN</td>\n",
       "      <td>NaN</td>\n",
       "      <td>NaN</td>\n",
       "      <td>NaN</td>\n",
       "      <td>NaN</td>\n",
       "      <td>776.0</td>\n",
       "      <td>281128.0</td>\n",
       "      <td>2186308.0</td>\n",
       "      <td>...</td>\n",
       "      <td>NaN</td>\n",
       "      <td>NaN</td>\n",
       "      <td>NaN</td>\n",
       "      <td>NaN</td>\n",
       "      <td>NaN</td>\n",
       "      <td>NaN</td>\n",
       "      <td>NaN</td>\n",
       "      <td>NaN</td>\n",
       "      <td>NaN</td>\n",
       "      <td>NaN</td>\n",
       "    </tr>\n",
       "    <tr>\n",
       "      <th>4</th>\n",
       "      <td>pos</td>\n",
       "      <td>695994</td>\n",
       "      <td>NaN</td>\n",
       "      <td>NaN</td>\n",
       "      <td>NaN</td>\n",
       "      <td>NaN</td>\n",
       "      <td>NaN</td>\n",
       "      <td>0.0</td>\n",
       "      <td>0.0</td>\n",
       "      <td>0.0</td>\n",
       "      <td>...</td>\n",
       "      <td>1397742.0</td>\n",
       "      <td>495544.0</td>\n",
       "      <td>361646.0</td>\n",
       "      <td>28610.0</td>\n",
       "      <td>5130.0</td>\n",
       "      <td>212.0</td>\n",
       "      <td>0.0</td>\n",
       "      <td>0.0</td>\n",
       "      <td>NaN</td>\n",
       "      <td>NaN</td>\n",
       "    </tr>\n",
       "  </tbody>\n",
       "</table>\n",
       "<p>5 rows × 171 columns</p>\n",
       "</div>"
      ],
      "text/plain": [
       "  class  aa_000  ab_000  ac_000  ad_000  ae_000  af_000  ag_000    ag_001  \\\n",
       "0   pos  153204     0.0   182.0     NaN     0.0     0.0     0.0       0.0   \n",
       "1   pos  453236     NaN  2926.0     NaN     0.0     0.0     0.0       0.0   \n",
       "2   pos   72504     NaN  1594.0  1052.0     0.0     0.0     0.0     244.0   \n",
       "3   pos  762958     NaN     NaN     NaN     NaN     NaN   776.0  281128.0   \n",
       "4   pos  695994     NaN     NaN     NaN     NaN     NaN     0.0       0.0   \n",
       "\n",
       "      ag_002  ...     ee_002     ee_003     ee_004     ee_005     ee_006  \\\n",
       "0        0.0  ...   129862.0    26872.0    34044.0    22472.0    34362.0   \n",
       "1      222.0  ...  7908038.0  3026002.0  5025350.0  2025766.0  1160638.0   \n",
       "2   178226.0  ...  1432098.0   372252.0   527514.0   358274.0   332818.0   \n",
       "3  2186308.0  ...        NaN        NaN        NaN        NaN        NaN   \n",
       "4        0.0  ...  1397742.0   495544.0   361646.0    28610.0     5130.0   \n",
       "\n",
       "     ee_007    ee_008  ee_009  ef_000  eg_000  \n",
       "0       0.0       0.0     0.0     0.0     0.0  \n",
       "1  533834.0  493800.0  6914.0     0.0     0.0  \n",
       "2  284178.0    3742.0     0.0     0.0     0.0  \n",
       "3       NaN       NaN     NaN     NaN     NaN  \n",
       "4     212.0       0.0     0.0     NaN     NaN  \n",
       "\n",
       "[5 rows x 171 columns]"
      ]
     },
     "execution_count": 4,
     "metadata": {},
     "output_type": "execute_result"
    }
   ],
   "source": [
    "sensor.head()"
   ]
  },
  {
   "cell_type": "code",
   "execution_count": 5,
   "id": "c308aee9",
   "metadata": {},
   "outputs": [
    {
     "data": {
      "text/plain": [
       "(36188, 171)"
      ]
     },
     "execution_count": 5,
     "metadata": {},
     "output_type": "execute_result"
    }
   ],
   "source": [
    "sensor.shape"
   ]
  },
  {
   "cell_type": "markdown",
   "id": "b7e9f921",
   "metadata": {},
   "source": [
    "### Column Class is the target variable as it is classified into pos: positive, neg: negative\n",
    "### lets check how the data is distributed"
   ]
  },
  {
   "cell_type": "code",
   "execution_count": 6,
   "id": "145116ab",
   "metadata": {},
   "outputs": [
    {
     "data": {
      "text/plain": [
       "class\n",
       "neg    35188\n",
       "pos     1000\n",
       "Name: count, dtype: int64"
      ]
     },
     "execution_count": 6,
     "metadata": {},
     "output_type": "execute_result"
    }
   ],
   "source": [
    "sensor['class'].value_counts()"
   ]
  },
  {
   "cell_type": "markdown",
   "id": "936902da",
   "metadata": {},
   "source": [
    "### Here the data is imbalanced as it is more tilted towards negative redings. So model might not give accurate results, in this case we shall use any resampling techniques."
   ]
  },
  {
   "cell_type": "markdown",
   "id": "ee1ca2b2",
   "metadata": {},
   "source": [
    "### Before resampling we shall check for null values and clean the data"
   ]
  },
  {
   "cell_type": "code",
   "execution_count": 7,
   "id": "184b060b",
   "metadata": {},
   "outputs": [
    {
     "data": {
      "text/plain": [
       "class         0\n",
       "aa_000        0\n",
       "ab_000    27896\n",
       "ac_000     2141\n",
       "ad_000     9200\n",
       "ae_000     1587\n",
       "af_000     1587\n",
       "ag_000      379\n",
       "ag_001      379\n",
       "ag_002      379\n",
       "ag_003      379\n",
       "ag_004      379\n",
       "ag_005      379\n",
       "ag_006      379\n",
       "ag_007      379\n",
       "ag_008      379\n",
       "ag_009      379\n",
       "ah_000      382\n",
       "ai_000      375\n",
       "aj_000      375\n",
       "dtype: int64"
      ]
     },
     "execution_count": 7,
     "metadata": {},
     "output_type": "execute_result"
    }
   ],
   "source": [
    "sensor.isnull().sum()[0:20]"
   ]
  },
  {
   "cell_type": "markdown",
   "id": "188bca8c",
   "metadata": {},
   "source": [
    "### There are missing values in many columns and the missing percentage is also higher in some columns. So lets remove the columns which has more than 30%  of missing data."
   ]
  },
  {
   "cell_type": "code",
   "execution_count": 8,
   "id": "10219095",
   "metadata": {},
   "outputs": [
    {
     "data": {
      "image/png": "[encoded data removed]",
      "text/plain": [
       "<Figure size 1500x500 with 1 Axes>"
      ]
     },
     "metadata": {},
     "output_type": "display_data"
    }
   ],
   "source": [
    "fig, ax = plt.subplots(figsize = (15,5))\n",
    "\n",
    "missing = sensor.isna().sum().div(sensor.shape[0]).mul(100).to_frame().sort_values(by= 0, ascending = False)\n",
    "ax.bar(missing.index, missing.values.T[0])\n",
    "plt.xticks([])\n",
    "plt.ylabel(\"Percentage missing\")\n",
    "plt.show()"
   ]
  },
  {
   "cell_type": "markdown",
   "id": "7c29a331",
   "metadata": {},
   "source": [
    "### some coulmns have more than 30% of missing data, lets remove those columns"
   ]
  },
  {
   "cell_type": "code",
   "execution_count": 9,
   "id": "f378cb31",
   "metadata": {},
   "outputs": [
    {
     "data": {
      "text/plain": [
       "(36188, 161)"
      ]
     },
     "execution_count": 9,
     "metadata": {},
     "output_type": "execute_result"
    }
   ],
   "source": [
    "dropcols = missing[missing[0]>30]\n",
    "sensor.drop(list(dropcols.index), axis = 1, inplace = True)\n",
    "sensor.shape"
   ]
  },
  {
   "cell_type": "markdown",
   "id": "63a07f97",
   "metadata": {},
   "source": [
    "### Now lets split the data"
   ]
  },
  {
   "cell_type": "code",
   "execution_count": 10,
   "id": "21bf9bf7",
   "metadata": {},
   "outputs": [],
   "source": [
    "x = sensor.drop('class', axis = 1)\n",
    "y = sensor['class']"
   ]
  },
  {
   "cell_type": "markdown",
   "id": "5e6bcfc2",
   "metadata": {},
   "source": [
    "### Encoding the target variable that is y"
   ]
  },
  {
   "cell_type": "code",
   "execution_count": 11,
   "id": "d4ccb9be",
   "metadata": {},
   "outputs": [],
   "source": [
    "y = y.replace({'pos':1, 'neg':0})"
   ]
  },
  {
   "cell_type": "code",
   "execution_count": 12,
   "id": "b5473c9b",
   "metadata": {},
   "outputs": [],
   "source": [
    "robust_scaler = RobustScaler()\n",
    "x1 = robust_scaler.fit_transform(x)"
   ]
  },
  {
   "cell_type": "markdown",
   "id": "9e80ae81",
   "metadata": {},
   "source": [
    "### Now lets check for the best nearest neighbor using knn imputer to fill the null values "
   ]
  },
  {
   "cell_type": "code",
   "execution_count": 13,
   "id": "91bbbe83",
   "metadata": {},
   "outputs": [
    {
     "name": "stdout",
     "output_type": "stream",
     "text": [
      "n_neighbors 1 || accuracy 0.6957278655908036\n",
      "n_neighbors 2 || accuracy 0.7327290814634686\n",
      "n_neighbors 3 || accuracy 0.7504697689841937\n",
      "n_neighbors 4 || accuracy 0.719934785011606\n"
     ]
    }
   ],
   "source": [
    "result = []\n",
    "imputer = KNNImputer(n_neighbors = 4)\n",
    "strategies = [str(i) for i in [1,2,3,4]]\n",
    "for s in strategies:\n",
    "    pipeline = Pipeline(steps= [('i', KNNImputer(n_neighbors=int(s))), ('m', LogisticRegression())])\n",
    "    scores = cross_val_score(pipeline, x1, y, scoring='accuracy', cv = 2, n_jobs= -1)\n",
    "    result.append(scores)\n",
    "    print(f'n_neighbors {s} || accuracy {mean(scores)}')"
   ]
  },
  {
   "cell_type": "markdown",
   "id": "7e09479c",
   "metadata": {},
   "source": [
    "### as we can see the 3rd has better accuracy among these 4, so lets use that"
   ]
  },
  {
   "cell_type": "code",
   "execution_count": 14,
   "id": "4be58ab0",
   "metadata": {},
   "outputs": [],
   "source": [
    "knn_pipeline = Pipeline(steps= [\n",
    "    ('imputer', KNNImputer(n_neighbors=3)),\n",
    "    ('scaler', RobustScaler())\n",
    "])"
   ]
  },
  {
   "cell_type": "code",
   "execution_count": 15,
   "id": "8c3ffcdc",
   "metadata": {},
   "outputs": [],
   "source": [
    "x_knn = knn_pipeline.fit_transform(x)"
   ]
  },
  {
   "cell_type": "markdown",
   "id": "f79c2fe4",
   "metadata": {},
   "source": [
    "### now we will resample the data using minority strategy"
   ]
  },
  {
   "cell_type": "code",
   "execution_count": 16,
   "id": "5d1a30b5",
   "metadata": {},
   "outputs": [],
   "source": [
    "from imblearn.combine import SMOTETomek"
   ]
  },
  {
   "cell_type": "code",
   "execution_count": 17,
   "id": "42c4e36f",
   "metadata": {},
   "outputs": [],
   "source": [
    "smt = SMOTETomek(random_state=101, sampling_strategy='minority', n_jobs=1)\n",
    "x_res, y_res = smt.fit_resample(x_knn, y)"
   ]
  },
  {
   "cell_type": "markdown",
   "id": "d7136817",
   "metadata": {},
   "source": [
    "### Lets take some models to check which give the better result"
   ]
  },
  {
   "cell_type": "code",
   "execution_count": 18,
   "id": "8da4a29d",
   "metadata": {},
   "outputs": [],
   "source": [
    "models = {\n",
    "    'Logistic Regression': LogisticRegression(),\n",
    "    'Random Forest': RandomForestClassifier(),\n",
    "    'Decision Tree': DecisionTreeClassifier(),\n",
    "    'Gradient Boosting': GradientBoostingClassifier(),\n",
    "    'XG Boost': XGBClassifier()\n",
    "}"
   ]
  },
  {
   "cell_type": "code",
   "execution_count": 19,
   "id": "2d150f1f",
   "metadata": {},
   "outputs": [],
   "source": [
    "def total_cost(y_true, y_pred):\n",
    "\n",
    "    tn, fp, fn, tp = confusion_matrix(y_true, y_pred).ravel()\n",
    "    cost = 10*fp + 500*fn\n",
    "    return cost\n",
    "\n",
    "\n",
    "def evaluate_clf(true, predicted):\n",
    "\n",
    "    acc = accuracy_score(true, predicted)\n",
    "    f1 = f1_score(true, predicted)\n",
    "    precision = precision_score(true, predicted)\n",
    "    recall = recall_score(true, predicted)\n",
    "    roc_auc = roc_auc_score(true, predicted)\n",
    "\n",
    "    return acc, f1, precision, recall, roc_auc\n",
    "\n",
    "\n",
    "def evalute_model(X, y, models):\n",
    "\n",
    "    # split of the data\n",
    "    X_train, X_test, y_train, y_test = train_test_split(X, y, test_size= 0.2, random_state=101)\n",
    "\n",
    "    cost_list = []\n",
    "    model_list = []\n",
    "\n",
    "    for i in range(len(list(models))):\n",
    "        model = list(models.values())[i]\n",
    "        # train the model\n",
    "        model.fit(X_train, y_train)\n",
    "\n",
    "        # make predictions\n",
    "        y_train_pred = model.predict(X_train)\n",
    "        y_test_pred = model.predict(X_test)\n",
    "\n",
    "        # training set performance\n",
    "        model_train_acc, model_train_f1, model_train_pre, model_train_recall, model_train_auc = evaluate_clf(y_train, y_train_pred)\n",
    "\n",
    "        train_cost = total_cost(y_train, y_train_pred)\n",
    "\n",
    "        # test set performance\n",
    "        model_test_acc, model_test_f1, model_test_pre, model_test_recall, model_test_auc = evaluate_clf(y_test, y_test_pred)\n",
    "\n",
    "        test_cost = total_cost(y_test, y_test_pred)\n",
    "\n",
    "        print(list(models.keys())[i])\n",
    "        model_list.append(list(models.keys())[i])\n",
    "\n",
    "        print(\"model Perfomance for Training data\")\n",
    "        print(f\"Accuracy: {model_train_acc}\")\n",
    "        print(f\"f1 score: {model_train_f1}\")\n",
    "        print(f\"precision score: {model_train_pre}\")\n",
    "        print(f\"recall score: {model_train_recall}\")\n",
    "        print(f\"total cost: {train_cost}\")\n",
    "\n",
    "        print('-'*60)\n",
    "\n",
    "        print(\"model Perfomance for test data\")\n",
    "        print(f\"Accuracy: {model_test_acc}\")\n",
    "        print(f\"f1 score: {model_test_f1}\")\n",
    "        print(f\"precision score: {model_test_pre}\")\n",
    "        print(f\"recall score: {model_test_recall}\")\n",
    "        print(f\"total cost: {test_cost}\")\n",
    "        cost_list.append(test_cost)\n",
    "        print('-'*60)\n",
    "\n",
    "    report = pd.DataFrame(list(zip(model_list , cost_list)), columns=[\"model\", \"cost\"]).sort_values(by=[\"cost\"])\n",
    "    return report"
   ]
  },
  {
   "cell_type": "code",
   "execution_count": 20,
   "id": "6c301c86",
   "metadata": {},
   "outputs": [
    {
     "name": "stdout",
     "output_type": "stream",
     "text": [
      "Logistic Regression\n",
      "model Perfomance for Training data\n",
      "Accuracy: 0.6133297692239151\n",
      "f1 score: 0.7042902311382468\n",
      "precision score: 0.569429446635961\n",
      "recall score: 0.922854387656702\n",
      "total cost: 1275380\n",
      "------------------------------------------------------------\n",
      "model Perfomance for test data\n",
      "Accuracy: 0.6159384132867631\n",
      "f1 score: 0.7071739130434782\n",
      "precision score: 0.574379800476737\n",
      "recall score: 0.9198359960412837\n",
      "total cost: 331710\n",
      "------------------------------------------------------------\n",
      "Random Forest\n",
      "model Perfomance for Training data\n",
      "Accuracy: 1.0\n",
      "f1 score: 1.0\n",
      "precision score: 1.0\n",
      "recall score: 1.0\n",
      "total cost: 0\n",
      "------------------------------------------------------------\n",
      "model Perfomance for test data\n",
      "Accuracy: 0.9917314135006059\n",
      "f1 score: 0.991826381059752\n",
      "precision score: 0.988621997471555\n",
      "recall score: 0.9950516046939064\n",
      "total cost: 18310\n",
      "------------------------------------------------------------\n",
      "Decision Tree\n",
      "model Perfomance for Training data\n",
      "Accuracy: 1.0\n",
      "f1 score: 1.0\n",
      "precision score: 1.0\n",
      "recall score: 1.0\n",
      "total cost: 0\n",
      "------------------------------------------------------------\n",
      "model Perfomance for test data\n",
      "Accuracy: 0.9842469171002922\n",
      "f1 score: 0.984431137724551\n",
      "precision score: 0.981044650379107\n",
      "recall score: 0.9878410858193128\n",
      "total cost: 44350\n",
      "------------------------------------------------------------\n",
      "Gradient Boosting\n",
      "model Perfomance for Training data\n",
      "Accuracy: 0.9847990733315513\n",
      "f1 score: 0.9848153093012906\n",
      "precision score: 0.9817220329358319\n",
      "recall score: 0.9879281402907246\n",
      "total cost: 174150\n",
      "------------------------------------------------------------\n",
      "model Perfomance for test data\n",
      "Accuracy: 0.9814669612944614\n",
      "f1 score: 0.9816643159379408\n",
      "precision score: 0.9793161671591388\n",
      "recall score: 0.9840237522974693\n",
      "total cost: 57970\n",
      "------------------------------------------------------------\n",
      "XG Boost\n",
      "model Perfomance for Training data\n",
      "Accuracy: 1.0\n",
      "f1 score: 1.0\n",
      "precision score: 1.0\n",
      "recall score: 1.0\n",
      "total cost: 0\n",
      "------------------------------------------------------------\n",
      "model Perfomance for test data\n",
      "Accuracy: 0.9960082685864994\n",
      "f1 score: 0.9960518894529047\n",
      "precision score: 0.993390521726902\n",
      "recall score: 0.9987275554927187\n",
      "total cost: 4970\n",
      "------------------------------------------------------------\n"
     ]
    }
   ],
   "source": [
    "report = evalute_model(x_res,y_res,models)"
   ]
  },
  {
   "cell_type": "code",
   "execution_count": 21,
   "id": "0b71120b",
   "metadata": {},
   "outputs": [
    {
     "data": {
      "text/html": [
       "<div>\n",
       "<style scoped>\n",
       "    .dataframe tbody tr th:only-of-type {\n",
       "        vertical-align: middle;\n",
       "    }\n",
       "\n",
       "    .dataframe tbody tr th {\n",
       "        vertical-align: top;\n",
       "    }\n",
       "\n",
       "    .dataframe thead th {\n",
       "        text-align: right;\n",
       "    }\n",
       "</style>\n",
       "<table border=\"1\" class=\"dataframe\">\n",
       "  <thead>\n",
       "    <tr style=\"text-align: right;\">\n",
       "      <th></th>\n",
       "      <th>model</th>\n",
       "      <th>cost</th>\n",
       "    </tr>\n",
       "  </thead>\n",
       "  <tbody>\n",
       "    <tr>\n",
       "      <th>4</th>\n",
       "      <td>XG Boost</td>\n",
       "      <td>4970</td>\n",
       "    </tr>\n",
       "    <tr>\n",
       "      <th>1</th>\n",
       "      <td>Random Forest</td>\n",
       "      <td>18310</td>\n",
       "    </tr>\n",
       "    <tr>\n",
       "      <th>2</th>\n",
       "      <td>Decision Tree</td>\n",
       "      <td>44350</td>\n",
       "    </tr>\n",
       "    <tr>\n",
       "      <th>3</th>\n",
       "      <td>Gradient Boosting</td>\n",
       "      <td>57970</td>\n",
       "    </tr>\n",
       "    <tr>\n",
       "      <th>0</th>\n",
       "      <td>Logistic Regression</td>\n",
       "      <td>331710</td>\n",
       "    </tr>\n",
       "  </tbody>\n",
       "</table>\n",
       "</div>"
      ],
      "text/plain": [
       "                 model    cost\n",
       "4             XG Boost    4970\n",
       "1        Random Forest   18310\n",
       "2        Decision Tree   44350\n",
       "3    Gradient Boosting   57970\n",
       "0  Logistic Regression  331710"
      ]
     },
     "execution_count": 21,
     "metadata": {},
     "output_type": "execute_result"
    }
   ],
   "source": [
    " report"
   ]
  },
  {
   "cell_type": "markdown",
   "id": "33122a61",
   "metadata": {},
   "source": [
    "### Now lets try with the simple imputer with median"
   ]
  },
  {
   "cell_type": "code",
   "execution_count": 22,
   "id": "2f927271",
   "metadata": {},
   "outputs": [],
   "source": [
    "median_pipeline = Pipeline(steps=[\n",
    "    ('imputer', SimpleImputer(strategy='median')),\n",
    "    ('scaler', RobustScaler())\n",
    "])\n",
    "\n",
    "x_median = median_pipeline.fit_transform(x)"
   ]
  },
  {
   "cell_type": "code",
   "execution_count": 23,
   "id": "002280ee",
   "metadata": {},
   "outputs": [],
   "source": [
    "smt = SMOTETomek(random_state=101, sampling_strategy='minority', n_jobs=1)\n",
    "x_resm, y_resm = smt.fit_resample(x_median, y)"
   ]
  },
  {
   "cell_type": "code",
   "execution_count": 25,
   "id": "caf9e402",
   "metadata": {},
   "outputs": [
    {
     "name": "stdout",
     "output_type": "stream",
     "text": [
      "Logistic Regression\n",
      "model Perfomance for Training data\n",
      "Accuracy: 0.615658934079846\n",
      "f1 score: 0.7182463432806556\n",
      "precision score: 0.566485906925916\n",
      "recall score: 0.981074132266819\n",
      "total cost: 475250\n",
      "------------------------------------------------------------\n",
      "model Perfomance for test data\n",
      "Accuracy: 0.6198559303901291\n",
      "f1 score: 0.7216710182767625\n",
      "precision score: 0.5709800033052388\n",
      "recall score: 0.9804199772985244\n",
      "total cost: 120920\n",
      "------------------------------------------------------------\n",
      "Random Forest\n",
      "model Perfomance for Training data\n",
      "Accuracy: 1.0\n",
      "f1 score: 1.0\n",
      "precision score: 1.0\n",
      "recall score: 1.0\n",
      "total cost: 0\n",
      "------------------------------------------------------------\n",
      "model Perfomance for test data\n",
      "Accuracy: 0.9912987661365095\n",
      "f1 score: 0.9913853975427199\n",
      "precision score: 0.9867866179364633\n",
      "recall score: 0.9960272417707151\n",
      "total cost: 14940\n",
      "------------------------------------------------------------\n",
      "Decision Tree\n",
      "model Perfomance for Training data\n",
      "Accuracy: 1.0\n",
      "f1 score: 1.0\n",
      "precision score: 1.0\n",
      "recall score: 1.0\n",
      "total cost: 0\n",
      "------------------------------------------------------------\n",
      "model Perfomance for test data\n",
      "Accuracy: 0.9848798231224591\n",
      "f1 score: 0.9850261336346942\n",
      "precision score: 0.9807313642756681\n",
      "recall score: 0.9893586833144155\n",
      "total cost: 38870\n",
      "------------------------------------------------------------\n",
      "Gradient Boosting\n",
      "model Perfomance for Training data\n",
      "Accuracy: 0.983149974145463\n",
      "f1 score: 0.9831673821271442\n",
      "precision score: 0.9808437288978925\n",
      "recall score: 0.9855020711326953\n",
      "total cost: 208390\n",
      "------------------------------------------------------------\n",
      "model Perfomance for test data\n",
      "Accuracy: 0.9781042721631837\n",
      "f1 score: 0.9783054201116529\n",
      "precision score: 0.9745178093763198\n",
      "recall score: 0.9821225879682179\n",
      "total cost: 64810\n",
      "------------------------------------------------------------\n",
      "XG Boost\n",
      "model Perfomance for Training data\n",
      "Accuracy: 0.99998216928481\n",
      "f1 score: 0.9999821450890068\n",
      "precision score: 1.0\n",
      "recall score: 0.9999642908155978\n",
      "total cost: 500\n",
      "------------------------------------------------------------\n",
      "model Perfomance for test data\n",
      "Accuracy: 0.9955780614792098\n",
      "f1 score: 0.9956146555382656\n",
      "precision score: 0.9926657263751762\n",
      "recall score: 0.9985811577752554\n",
      "total cost: 5520\n",
      "------------------------------------------------------------\n"
     ]
    }
   ],
   "source": [
    "report_median = evalute_model(x_resm, y_resm, models)"
   ]
  },
  {
   "cell_type": "markdown",
   "id": "52ac7175",
   "metadata": {},
   "source": [
    "### As we got some results with median imputer lets try with mean imputer if we can get better cost"
   ]
  },
  {
   "cell_type": "code",
   "execution_count": 30,
   "id": "2791d335",
   "metadata": {},
   "outputs": [
    {
     "data": {
      "text/html": [
       "<div>\n",
       "<style scoped>\n",
       "    .dataframe tbody tr th:only-of-type {\n",
       "        vertical-align: middle;\n",
       "    }\n",
       "\n",
       "    .dataframe tbody tr th {\n",
       "        vertical-align: top;\n",
       "    }\n",
       "\n",
       "    .dataframe thead th {\n",
       "        text-align: right;\n",
       "    }\n",
       "</style>\n",
       "<table border=\"1\" class=\"dataframe\">\n",
       "  <thead>\n",
       "    <tr style=\"text-align: right;\">\n",
       "      <th></th>\n",
       "      <th>model</th>\n",
       "      <th>cost</th>\n",
       "    </tr>\n",
       "  </thead>\n",
       "  <tbody>\n",
       "    <tr>\n",
       "      <th>4</th>\n",
       "      <td>XG Boost</td>\n",
       "      <td>5520</td>\n",
       "    </tr>\n",
       "    <tr>\n",
       "      <th>1</th>\n",
       "      <td>Random Forest</td>\n",
       "      <td>14940</td>\n",
       "    </tr>\n",
       "    <tr>\n",
       "      <th>2</th>\n",
       "      <td>Decision Tree</td>\n",
       "      <td>38870</td>\n",
       "    </tr>\n",
       "    <tr>\n",
       "      <th>3</th>\n",
       "      <td>Gradient Boosting</td>\n",
       "      <td>64810</td>\n",
       "    </tr>\n",
       "    <tr>\n",
       "      <th>0</th>\n",
       "      <td>Logistic Regression</td>\n",
       "      <td>120920</td>\n",
       "    </tr>\n",
       "  </tbody>\n",
       "</table>\n",
       "</div>"
      ],
      "text/plain": [
       "                 model    cost\n",
       "4             XG Boost    5520\n",
       "1        Random Forest   14940\n",
       "2        Decision Tree   38870\n",
       "3    Gradient Boosting   64810\n",
       "0  Logistic Regression  120920"
      ]
     },
     "execution_count": 30,
     "metadata": {},
     "output_type": "execute_result"
    }
   ],
   "source": [
    "report_median"
   ]
  },
  {
   "cell_type": "code",
   "execution_count": 26,
   "id": "dc534b12",
   "metadata": {},
   "outputs": [],
   "source": [
    "mean_pipeline = Pipeline(steps=[\n",
    "    ('imputer', SimpleImputer(strategy='mean')),\n",
    "    ('scaler', RobustScaler())\n",
    "])\n",
    "x_mean = mean_pipeline.fit_transform(x)"
   ]
  },
  {
   "cell_type": "code",
   "execution_count": 27,
   "id": "9e25712f",
   "metadata": {},
   "outputs": [
    {
     "name": "stdout",
     "output_type": "stream",
     "text": [
      "Logistic Regression\n",
      "model Perfomance for Training data\n",
      "Accuracy: 0.6670645029125176\n",
      "f1 score: 0.7340107591153616\n",
      "precision score: 0.611510279576012\n",
      "recall score: 0.9178857447944474\n",
      "total cost: 1317330\n",
      "------------------------------------------------------------\n",
      "model Perfomance for test data\n",
      "Accuracy: 0.6641966512290702\n",
      "f1 score: 0.7319570039242449\n",
      "precision score: 0.6075339879154078\n",
      "recall score: 0.9204691746531255\n",
      "total cost: 319570\n",
      "------------------------------------------------------------\n",
      "Random Forest\n",
      "model Perfomance for Training data\n",
      "Accuracy: 1.0\n",
      "f1 score: 1.0\n",
      "precision score: 1.0\n",
      "recall score: 1.0\n",
      "total cost: 0\n",
      "------------------------------------------------------------\n",
      "model Perfomance for test data\n",
      "Accuracy: 0.9933024581403633\n",
      "f1 score: 0.9933048433048434\n",
      "precision score: 0.9892183288409704\n",
      "recall score: 0.9974252610499214\n",
      "total cost: 9760\n",
      "------------------------------------------------------------\n",
      "Decision Tree\n",
      "model Perfomance for Training data\n",
      "Accuracy: 1.0\n",
      "f1 score: 1.0\n",
      "precision score: 1.0\n",
      "recall score: 1.0\n",
      "total cost: 0\n",
      "------------------------------------------------------------\n",
      "model Perfomance for test data\n",
      "Accuracy: 0.9878161738510866\n",
      "f1 score: 0.9878127004490057\n",
      "precision score: 0.984375\n",
      "recall score: 0.9912744957802889\n",
      "total cost: 31600\n",
      "------------------------------------------------------------\n",
      "Gradient Boosting\n",
      "model Perfomance for Training data\n",
      "Accuracy: 0.986087607104049\n",
      "f1 score: 0.9861433919415219\n",
      "precision score: 0.9831257959530211\n",
      "recall score: 0.989179569318384\n",
      "total cost: 156770\n",
      "------------------------------------------------------------\n",
      "model Perfomance for test data\n",
      "Accuracy: 0.984396152475953\n",
      "f1 score: 0.9843894789364886\n",
      "precision score: 0.981102585961921\n",
      "recall score: 0.9876984694607353\n",
      "total cost: 44330\n",
      "------------------------------------------------------------\n",
      "XG Boost\n",
      "model Perfomance for Training data\n",
      "Accuracy: 0.999982186436753\n",
      "f1 score: 0.9999822029222802\n",
      "precision score: 1.0\n",
      "recall score: 0.999964406478021\n",
      "total cost: 500\n",
      "------------------------------------------------------------\n",
      "model Perfomance for test data\n",
      "Accuracy: 0.9952974706091913\n",
      "f1 score: 0.995291095890411\n",
      "precision score: 0.9928825622775801\n",
      "recall score: 0.9977113431554856\n",
      "total cost: 8500\n",
      "------------------------------------------------------------\n"
     ]
    }
   ],
   "source": [
    "smt = SMOTETomek(random_state=101, sampling_strategy='minority', n_jobs=1)\n",
    "x_res_mean, y_res_mean = smt.fit_resample(x_mean, y)\n",
    "\n",
    "report_mean = evalute_model(x_res_mean, y_res_mean, models)"
   ]
  },
  {
   "cell_type": "markdown",
   "id": "7d143660",
   "metadata": {},
   "source": [
    "### Now lets try for constant values"
   ]
  },
  {
   "cell_type": "code",
   "execution_count": 31,
   "id": "faf574d3",
   "metadata": {},
   "outputs": [
    {
     "data": {
      "text/html": [
       "<div>\n",
       "<style scoped>\n",
       "    .dataframe tbody tr th:only-of-type {\n",
       "        vertical-align: middle;\n",
       "    }\n",
       "\n",
       "    .dataframe tbody tr th {\n",
       "        vertical-align: top;\n",
       "    }\n",
       "\n",
       "    .dataframe thead th {\n",
       "        text-align: right;\n",
       "    }\n",
       "</style>\n",
       "<table border=\"1\" class=\"dataframe\">\n",
       "  <thead>\n",
       "    <tr style=\"text-align: right;\">\n",
       "      <th></th>\n",
       "      <th>model</th>\n",
       "      <th>cost</th>\n",
       "    </tr>\n",
       "  </thead>\n",
       "  <tbody>\n",
       "    <tr>\n",
       "      <th>4</th>\n",
       "      <td>XG Boost</td>\n",
       "      <td>8500</td>\n",
       "    </tr>\n",
       "    <tr>\n",
       "      <th>1</th>\n",
       "      <td>Random Forest</td>\n",
       "      <td>9760</td>\n",
       "    </tr>\n",
       "    <tr>\n",
       "      <th>2</th>\n",
       "      <td>Decision Tree</td>\n",
       "      <td>31600</td>\n",
       "    </tr>\n",
       "    <tr>\n",
       "      <th>3</th>\n",
       "      <td>Gradient Boosting</td>\n",
       "      <td>44330</td>\n",
       "    </tr>\n",
       "    <tr>\n",
       "      <th>0</th>\n",
       "      <td>Logistic Regression</td>\n",
       "      <td>319570</td>\n",
       "    </tr>\n",
       "  </tbody>\n",
       "</table>\n",
       "</div>"
      ],
      "text/plain": [
       "                 model    cost\n",
       "4             XG Boost    8500\n",
       "1        Random Forest    9760\n",
       "2        Decision Tree   31600\n",
       "3    Gradient Boosting   44330\n",
       "0  Logistic Regression  319570"
      ]
     },
     "execution_count": 31,
     "metadata": {},
     "output_type": "execute_result"
    }
   ],
   "source": [
    "report_mean"
   ]
  },
  {
   "cell_type": "code",
   "execution_count": 28,
   "id": "bb392081",
   "metadata": {},
   "outputs": [],
   "source": [
    "const_pipeline = Pipeline(steps=[\n",
    "    ('imputer', SimpleImputer(strategy='constant')),\n",
    "    ('scaler', RobustScaler())\n",
    "])\n",
    "x_const = const_pipeline.fit_transform(x)"
   ]
  },
  {
   "cell_type": "code",
   "execution_count": 29,
   "id": "ddc98c73",
   "metadata": {},
   "outputs": [
    {
     "name": "stdout",
     "output_type": "stream",
     "text": [
      "Logistic Regression\n",
      "model Perfomance for Training data\n",
      "Accuracy: 0.6280699876932955\n",
      "f1 score: 0.72655748023236\n",
      "precision score: 0.5749745760953033\n",
      "recall score: 0.9866799629603248\n",
      "total cost: 391790\n",
      "------------------------------------------------------------\n",
      "model Perfomance for test data\n",
      "Accuracy: 0.6215309980737675\n",
      "f1 score: 0.7217122173844621\n",
      "precision score: 0.5685593850731465\n",
      "recall score: 0.98779437105112\n",
      "total cost: 94700\n",
      "------------------------------------------------------------\n",
      "Random Forest\n",
      "model Perfomance for Training data\n",
      "Accuracy: 1.0\n",
      "f1 score: 1.0\n",
      "precision score: 1.0\n",
      "recall score: 1.0\n",
      "total cost: 0\n",
      "------------------------------------------------------------\n",
      "model Perfomance for test data\n",
      "Accuracy: 0.9920810444460298\n",
      "f1 score: 0.9920617893155975\n",
      "precision score: 0.9881749536971078\n",
      "recall score: 0.9959793222286043\n",
      "total cost: 14830\n",
      "------------------------------------------------------------\n",
      "Decision Tree\n",
      "model Perfomance for Training data\n",
      "Accuracy: 1.0\n",
      "f1 score: 1.0\n",
      "precision score: 1.0\n",
      "recall score: 1.0\n",
      "total cost: 0\n",
      "------------------------------------------------------------\n",
      "model Perfomance for test data\n",
      "Accuracy: 0.9864450310337447\n",
      "f1 score: 0.9863974799541809\n",
      "precision score: 0.9835808109651628\n",
      "recall score: 0.9892303273980471\n",
      "total cost: 38650\n",
      "------------------------------------------------------------\n",
      "Gradient Boosting\n",
      "model Perfomance for Training data\n",
      "Accuracy: 0.9828597927479623\n",
      "f1 score: 0.9829419386903812\n",
      "precision score: 0.9797940479139389\n",
      "recall score: 0.9861101218035473\n",
      "total cost: 200710\n",
      "------------------------------------------------------------\n",
      "model Perfomance for test data\n",
      "Accuracy: 0.9821645145180852\n",
      "f1 score: 0.9821096321740375\n",
      "precision score: 0.9788873038516405\n",
      "recall score: 0.985353245261344\n",
      "total cost: 52480\n",
      "------------------------------------------------------------\n",
      "XG Boost\n",
      "model Perfomance for Training data\n",
      "Accuracy: 0.9999821641964078\n",
      "f1 score: 0.9999821921467367\n",
      "precision score: 1.0\n",
      "recall score: 0.9999643849277015\n",
      "total cost: 500\n",
      "------------------------------------------------------------\n",
      "model Perfomance for test data\n",
      "Accuracy: 0.9957194834843405\n",
      "f1 score: 0.995706311721769\n",
      "precision score: 0.9924393723252496\n",
      "recall score: 0.9989948305571511\n",
      "total cost: 4030\n",
      "------------------------------------------------------------\n"
     ]
    }
   ],
   "source": [
    "smt = SMOTETomek(random_state=101, sampling_strategy='minority', n_jobs=1)\n",
    "x_res_const, y_res_const = smt.fit_resample(x_const, y)\n",
    "\n",
    "report_const = evalute_model(x_res_const, y_res_const, models)"
   ]
  },
  {
   "cell_type": "code",
   "execution_count": 32,
   "id": "d45ad76a",
   "metadata": {},
   "outputs": [
    {
     "data": {
      "text/html": [
       "<div>\n",
       "<style scoped>\n",
       "    .dataframe tbody tr th:only-of-type {\n",
       "        vertical-align: middle;\n",
       "    }\n",
       "\n",
       "    .dataframe tbody tr th {\n",
       "        vertical-align: top;\n",
       "    }\n",
       "\n",
       "    .dataframe thead th {\n",
       "        text-align: right;\n",
       "    }\n",
       "</style>\n",
       "<table border=\"1\" class=\"dataframe\">\n",
       "  <thead>\n",
       "    <tr style=\"text-align: right;\">\n",
       "      <th></th>\n",
       "      <th>model</th>\n",
       "      <th>cost</th>\n",
       "    </tr>\n",
       "  </thead>\n",
       "  <tbody>\n",
       "    <tr>\n",
       "      <th>4</th>\n",
       "      <td>XG Boost</td>\n",
       "      <td>4030</td>\n",
       "    </tr>\n",
       "    <tr>\n",
       "      <th>1</th>\n",
       "      <td>Random Forest</td>\n",
       "      <td>14830</td>\n",
       "    </tr>\n",
       "    <tr>\n",
       "      <th>2</th>\n",
       "      <td>Decision Tree</td>\n",
       "      <td>38650</td>\n",
       "    </tr>\n",
       "    <tr>\n",
       "      <th>3</th>\n",
       "      <td>Gradient Boosting</td>\n",
       "      <td>52480</td>\n",
       "    </tr>\n",
       "    <tr>\n",
       "      <th>0</th>\n",
       "      <td>Logistic Regression</td>\n",
       "      <td>94700</td>\n",
       "    </tr>\n",
       "  </tbody>\n",
       "</table>\n",
       "</div>"
      ],
      "text/plain": [
       "                 model   cost\n",
       "4             XG Boost   4030\n",
       "1        Random Forest  14830\n",
       "2        Decision Tree  38650\n",
       "3    Gradient Boosting  52480\n",
       "0  Logistic Regression  94700"
      ]
     },
     "execution_count": 32,
     "metadata": {},
     "output_type": "execute_result"
    }
   ],
   "source": [
    "report_const"
   ]
  },
  {
   "cell_type": "code",
   "execution_count": 33,
   "id": "4d46fc9c",
   "metadata": {},
   "outputs": [
    {
     "data": {
      "text/html": [
       "<div>\n",
       "<style scoped>\n",
       "    .dataframe tbody tr th:only-of-type {\n",
       "        vertical-align: middle;\n",
       "    }\n",
       "\n",
       "    .dataframe tbody tr th {\n",
       "        vertical-align: top;\n",
       "    }\n",
       "\n",
       "    .dataframe thead th {\n",
       "        text-align: right;\n",
       "    }\n",
       "</style>\n",
       "<table border=\"1\" class=\"dataframe\">\n",
       "  <thead>\n",
       "    <tr style=\"text-align: right;\">\n",
       "      <th></th>\n",
       "      <th>model</th>\n",
       "      <th>cost_const</th>\n",
       "    </tr>\n",
       "  </thead>\n",
       "  <tbody>\n",
       "    <tr>\n",
       "      <th>4</th>\n",
       "      <td>XG Boost</td>\n",
       "      <td>4030</td>\n",
       "    </tr>\n",
       "    <tr>\n",
       "      <th>1</th>\n",
       "      <td>Random Forest</td>\n",
       "      <td>14830</td>\n",
       "    </tr>\n",
       "    <tr>\n",
       "      <th>2</th>\n",
       "      <td>Decision Tree</td>\n",
       "      <td>38650</td>\n",
       "    </tr>\n",
       "    <tr>\n",
       "      <th>3</th>\n",
       "      <td>Gradient Boosting</td>\n",
       "      <td>52480</td>\n",
       "    </tr>\n",
       "    <tr>\n",
       "      <th>0</th>\n",
       "      <td>Logistic Regression</td>\n",
       "      <td>94700</td>\n",
       "    </tr>\n",
       "  </tbody>\n",
       "</table>\n",
       "</div>"
      ],
      "text/plain": [
       "                 model  cost_const\n",
       "4             XG Boost        4030\n",
       "1        Random Forest       14830\n",
       "2        Decision Tree       38650\n",
       "3    Gradient Boosting       52480\n",
       "0  Logistic Regression       94700"
      ]
     },
     "execution_count": 33,
     "metadata": {},
     "output_type": "execute_result"
    }
   ],
   "source": [
    "report_const.rename(columns={'cost': 'cost_const'}, inplace=True)\n",
    "report_const"
   ]
  },
  {
   "cell_type": "code",
   "execution_count": 37,
   "id": "b1c9b032",
   "metadata": {},
   "outputs": [
    {
     "data": {
      "text/html": [
       "<div>\n",
       "<style scoped>\n",
       "    .dataframe tbody tr th:only-of-type {\n",
       "        vertical-align: middle;\n",
       "    }\n",
       "\n",
       "    .dataframe tbody tr th {\n",
       "        vertical-align: top;\n",
       "    }\n",
       "\n",
       "    .dataframe thead th {\n",
       "        text-align: right;\n",
       "    }\n",
       "</style>\n",
       "<table border=\"1\" class=\"dataframe\">\n",
       "  <thead>\n",
       "    <tr style=\"text-align: right;\">\n",
       "      <th></th>\n",
       "      <th>model</th>\n",
       "      <th>cost_mean</th>\n",
       "    </tr>\n",
       "  </thead>\n",
       "  <tbody>\n",
       "    <tr>\n",
       "      <th>4</th>\n",
       "      <td>XG Boost</td>\n",
       "      <td>8500</td>\n",
       "    </tr>\n",
       "    <tr>\n",
       "      <th>1</th>\n",
       "      <td>Random Forest</td>\n",
       "      <td>9760</td>\n",
       "    </tr>\n",
       "    <tr>\n",
       "      <th>2</th>\n",
       "      <td>Decision Tree</td>\n",
       "      <td>31600</td>\n",
       "    </tr>\n",
       "    <tr>\n",
       "      <th>3</th>\n",
       "      <td>Gradient Boosting</td>\n",
       "      <td>44330</td>\n",
       "    </tr>\n",
       "    <tr>\n",
       "      <th>0</th>\n",
       "      <td>Logistic Regression</td>\n",
       "      <td>319570</td>\n",
       "    </tr>\n",
       "  </tbody>\n",
       "</table>\n",
       "</div>"
      ],
      "text/plain": [
       "                 model  cost_mean\n",
       "4             XG Boost       8500\n",
       "1        Random Forest       9760\n",
       "2        Decision Tree      31600\n",
       "3    Gradient Boosting      44330\n",
       "0  Logistic Regression     319570"
      ]
     },
     "execution_count": 37,
     "metadata": {},
     "output_type": "execute_result"
    }
   ],
   "source": [
    "report_mean.rename(columns={'cost': 'cost_mean'},inplace=True)\n",
    "report_median.rename(columns={'cost':'cost_median'}, inplace=True)\n",
    "report_mean"
   ]
  },
  {
   "cell_type": "code",
   "execution_count": 38,
   "id": "11862b01",
   "metadata": {},
   "outputs": [
    {
     "data": {
      "text/html": [
       "<div>\n",
       "<style scoped>\n",
       "    .dataframe tbody tr th:only-of-type {\n",
       "        vertical-align: middle;\n",
       "    }\n",
       "\n",
       "    .dataframe tbody tr th {\n",
       "        vertical-align: top;\n",
       "    }\n",
       "\n",
       "    .dataframe thead th {\n",
       "        text-align: right;\n",
       "    }\n",
       "</style>\n",
       "<table border=\"1\" class=\"dataframe\">\n",
       "  <thead>\n",
       "    <tr style=\"text-align: right;\">\n",
       "      <th></th>\n",
       "      <th>model</th>\n",
       "      <th>cost_median</th>\n",
       "    </tr>\n",
       "  </thead>\n",
       "  <tbody>\n",
       "    <tr>\n",
       "      <th>4</th>\n",
       "      <td>XG Boost</td>\n",
       "      <td>5520</td>\n",
       "    </tr>\n",
       "    <tr>\n",
       "      <th>1</th>\n",
       "      <td>Random Forest</td>\n",
       "      <td>14940</td>\n",
       "    </tr>\n",
       "    <tr>\n",
       "      <th>2</th>\n",
       "      <td>Decision Tree</td>\n",
       "      <td>38870</td>\n",
       "    </tr>\n",
       "    <tr>\n",
       "      <th>3</th>\n",
       "      <td>Gradient Boosting</td>\n",
       "      <td>64810</td>\n",
       "    </tr>\n",
       "    <tr>\n",
       "      <th>0</th>\n",
       "      <td>Logistic Regression</td>\n",
       "      <td>120920</td>\n",
       "    </tr>\n",
       "  </tbody>\n",
       "</table>\n",
       "</div>"
      ],
      "text/plain": [
       "                 model  cost_median\n",
       "4             XG Boost         5520\n",
       "1        Random Forest        14940\n",
       "2        Decision Tree        38870\n",
       "3    Gradient Boosting        64810\n",
       "0  Logistic Regression       120920"
      ]
     },
     "execution_count": 38,
     "metadata": {},
     "output_type": "execute_result"
    }
   ],
   "source": [
    "report_median"
   ]
  },
  {
   "cell_type": "code",
   "execution_count": 39,
   "id": "55f3a226",
   "metadata": {},
   "outputs": [
    {
     "data": {
      "text/html": [
       "<div>\n",
       "<style scoped>\n",
       "    .dataframe tbody tr th:only-of-type {\n",
       "        vertical-align: middle;\n",
       "    }\n",
       "\n",
       "    .dataframe tbody tr th {\n",
       "        vertical-align: top;\n",
       "    }\n",
       "\n",
       "    .dataframe thead th {\n",
       "        text-align: right;\n",
       "    }\n",
       "</style>\n",
       "<table border=\"1\" class=\"dataframe\">\n",
       "  <thead>\n",
       "    <tr style=\"text-align: right;\">\n",
       "      <th></th>\n",
       "      <th>model</th>\n",
       "      <th>cost</th>\n",
       "    </tr>\n",
       "  </thead>\n",
       "  <tbody>\n",
       "    <tr>\n",
       "      <th>4</th>\n",
       "      <td>XG Boost</td>\n",
       "      <td>4970</td>\n",
       "    </tr>\n",
       "    <tr>\n",
       "      <th>1</th>\n",
       "      <td>Random Forest</td>\n",
       "      <td>18310</td>\n",
       "    </tr>\n",
       "    <tr>\n",
       "      <th>2</th>\n",
       "      <td>Decision Tree</td>\n",
       "      <td>44350</td>\n",
       "    </tr>\n",
       "    <tr>\n",
       "      <th>3</th>\n",
       "      <td>Gradient Boosting</td>\n",
       "      <td>57970</td>\n",
       "    </tr>\n",
       "    <tr>\n",
       "      <th>0</th>\n",
       "      <td>Logistic Regression</td>\n",
       "      <td>331710</td>\n",
       "    </tr>\n",
       "  </tbody>\n",
       "</table>\n",
       "</div>"
      ],
      "text/plain": [
       "                 model    cost\n",
       "4             XG Boost    4970\n",
       "1        Random Forest   18310\n",
       "2        Decision Tree   44350\n",
       "3    Gradient Boosting   57970\n",
       "0  Logistic Regression  331710"
      ]
     },
     "execution_count": 39,
     "metadata": {},
     "output_type": "execute_result"
    }
   ],
   "source": [
    "report"
   ]
  },
  {
   "cell_type": "code",
   "execution_count": 40,
   "id": "ee90fdfe",
   "metadata": {},
   "outputs": [
    {
     "data": {
      "text/html": [
       "<div>\n",
       "<style scoped>\n",
       "    .dataframe tbody tr th:only-of-type {\n",
       "        vertical-align: middle;\n",
       "    }\n",
       "\n",
       "    .dataframe tbody tr th {\n",
       "        vertical-align: top;\n",
       "    }\n",
       "\n",
       "    .dataframe thead th {\n",
       "        text-align: right;\n",
       "    }\n",
       "</style>\n",
       "<table border=\"1\" class=\"dataframe\">\n",
       "  <thead>\n",
       "    <tr style=\"text-align: right;\">\n",
       "      <th></th>\n",
       "      <th>model</th>\n",
       "      <th>cost</th>\n",
       "      <th>cost_const</th>\n",
       "    </tr>\n",
       "  </thead>\n",
       "  <tbody>\n",
       "    <tr>\n",
       "      <th>0</th>\n",
       "      <td>XG Boost</td>\n",
       "      <td>4970</td>\n",
       "      <td>4030</td>\n",
       "    </tr>\n",
       "    <tr>\n",
       "      <th>1</th>\n",
       "      <td>Random Forest</td>\n",
       "      <td>18310</td>\n",
       "      <td>14830</td>\n",
       "    </tr>\n",
       "    <tr>\n",
       "      <th>2</th>\n",
       "      <td>Decision Tree</td>\n",
       "      <td>44350</td>\n",
       "      <td>38650</td>\n",
       "    </tr>\n",
       "    <tr>\n",
       "      <th>3</th>\n",
       "      <td>Gradient Boosting</td>\n",
       "      <td>57970</td>\n",
       "      <td>52480</td>\n",
       "    </tr>\n",
       "    <tr>\n",
       "      <th>4</th>\n",
       "      <td>Logistic Regression</td>\n",
       "      <td>331710</td>\n",
       "      <td>94700</td>\n",
       "    </tr>\n",
       "  </tbody>\n",
       "</table>\n",
       "</div>"
      ],
      "text/plain": [
       "                 model    cost  cost_const\n",
       "0             XG Boost    4970        4030\n",
       "1        Random Forest   18310       14830\n",
       "2        Decision Tree   44350       38650\n",
       "3    Gradient Boosting   57970       52480\n",
       "4  Logistic Regression  331710       94700"
      ]
     },
     "execution_count": 40,
     "metadata": {},
     "output_type": "execute_result"
    }
   ],
   "source": [
    "merge_report = pd.merge(report, report_const, on='model')\n",
    "merge_report"
   ]
  },
  {
   "cell_type": "code",
   "execution_count": 41,
   "id": "8c8ea54c",
   "metadata": {},
   "outputs": [
    {
     "data": {
      "text/html": [
       "<div>\n",
       "<style scoped>\n",
       "    .dataframe tbody tr th:only-of-type {\n",
       "        vertical-align: middle;\n",
       "    }\n",
       "\n",
       "    .dataframe tbody tr th {\n",
       "        vertical-align: top;\n",
       "    }\n",
       "\n",
       "    .dataframe thead th {\n",
       "        text-align: right;\n",
       "    }\n",
       "</style>\n",
       "<table border=\"1\" class=\"dataframe\">\n",
       "  <thead>\n",
       "    <tr style=\"text-align: right;\">\n",
       "      <th></th>\n",
       "      <th>model</th>\n",
       "      <th>cost</th>\n",
       "      <th>cost_const</th>\n",
       "      <th>cost_mean</th>\n",
       "    </tr>\n",
       "  </thead>\n",
       "  <tbody>\n",
       "    <tr>\n",
       "      <th>0</th>\n",
       "      <td>XG Boost</td>\n",
       "      <td>4970</td>\n",
       "      <td>4030</td>\n",
       "      <td>8500</td>\n",
       "    </tr>\n",
       "    <tr>\n",
       "      <th>1</th>\n",
       "      <td>Random Forest</td>\n",
       "      <td>18310</td>\n",
       "      <td>14830</td>\n",
       "      <td>9760</td>\n",
       "    </tr>\n",
       "    <tr>\n",
       "      <th>2</th>\n",
       "      <td>Decision Tree</td>\n",
       "      <td>44350</td>\n",
       "      <td>38650</td>\n",
       "      <td>31600</td>\n",
       "    </tr>\n",
       "    <tr>\n",
       "      <th>3</th>\n",
       "      <td>Gradient Boosting</td>\n",
       "      <td>57970</td>\n",
       "      <td>52480</td>\n",
       "      <td>44330</td>\n",
       "    </tr>\n",
       "    <tr>\n",
       "      <th>4</th>\n",
       "      <td>Logistic Regression</td>\n",
       "      <td>331710</td>\n",
       "      <td>94700</td>\n",
       "      <td>319570</td>\n",
       "    </tr>\n",
       "  </tbody>\n",
       "</table>\n",
       "</div>"
      ],
      "text/plain": [
       "                 model    cost  cost_const  cost_mean\n",
       "0             XG Boost    4970        4030       8500\n",
       "1        Random Forest   18310       14830       9760\n",
       "2        Decision Tree   44350       38650      31600\n",
       "3    Gradient Boosting   57970       52480      44330\n",
       "4  Logistic Regression  331710       94700     319570"
      ]
     },
     "execution_count": 41,
     "metadata": {},
     "output_type": "execute_result"
    }
   ],
   "source": [
    "merge_report = pd.merge(merge_report, report_mean, on='model')\n",
    "merge_report"
   ]
  },
  {
   "cell_type": "code",
   "execution_count": 42,
   "id": "3b671209",
   "metadata": {},
   "outputs": [
    {
     "data": {
      "text/html": [
       "<div>\n",
       "<style scoped>\n",
       "    .dataframe tbody tr th:only-of-type {\n",
       "        vertical-align: middle;\n",
       "    }\n",
       "\n",
       "    .dataframe tbody tr th {\n",
       "        vertical-align: top;\n",
       "    }\n",
       "\n",
       "    .dataframe thead th {\n",
       "        text-align: right;\n",
       "    }\n",
       "</style>\n",
       "<table border=\"1\" class=\"dataframe\">\n",
       "  <thead>\n",
       "    <tr style=\"text-align: right;\">\n",
       "      <th></th>\n",
       "      <th>model</th>\n",
       "      <th>cost</th>\n",
       "      <th>cost_const</th>\n",
       "      <th>cost_mean</th>\n",
       "      <th>cost_median</th>\n",
       "    </tr>\n",
       "  </thead>\n",
       "  <tbody>\n",
       "    <tr>\n",
       "      <th>0</th>\n",
       "      <td>XG Boost</td>\n",
       "      <td>4970</td>\n",
       "      <td>4030</td>\n",
       "      <td>8500</td>\n",
       "      <td>5520</td>\n",
       "    </tr>\n",
       "    <tr>\n",
       "      <th>1</th>\n",
       "      <td>Random Forest</td>\n",
       "      <td>18310</td>\n",
       "      <td>14830</td>\n",
       "      <td>9760</td>\n",
       "      <td>14940</td>\n",
       "    </tr>\n",
       "    <tr>\n",
       "      <th>2</th>\n",
       "      <td>Decision Tree</td>\n",
       "      <td>44350</td>\n",
       "      <td>38650</td>\n",
       "      <td>31600</td>\n",
       "      <td>38870</td>\n",
       "    </tr>\n",
       "    <tr>\n",
       "      <th>3</th>\n",
       "      <td>Gradient Boosting</td>\n",
       "      <td>57970</td>\n",
       "      <td>52480</td>\n",
       "      <td>44330</td>\n",
       "      <td>64810</td>\n",
       "    </tr>\n",
       "    <tr>\n",
       "      <th>4</th>\n",
       "      <td>Logistic Regression</td>\n",
       "      <td>331710</td>\n",
       "      <td>94700</td>\n",
       "      <td>319570</td>\n",
       "      <td>120920</td>\n",
       "    </tr>\n",
       "  </tbody>\n",
       "</table>\n",
       "</div>"
      ],
      "text/plain": [
       "                 model    cost  cost_const  cost_mean  cost_median\n",
       "0             XG Boost    4970        4030       8500         5520\n",
       "1        Random Forest   18310       14830       9760        14940\n",
       "2        Decision Tree   44350       38650      31600        38870\n",
       "3    Gradient Boosting   57970       52480      44330        64810\n",
       "4  Logistic Regression  331710       94700     319570       120920"
      ]
     },
     "execution_count": 42,
     "metadata": {},
     "output_type": "execute_result"
    }
   ],
   "source": [
    "merge_report = pd.merge(merge_report, report_median, on='model')\n",
    "merge_report"
   ]
  },
  {
   "cell_type": "markdown",
   "id": "fb0f3ce4",
   "metadata": {},
   "source": [
    "### So here the cost for the model is least with XG Boost and with the constant imputer"
   ]
  },
  {
   "cell_type": "code",
   "execution_count": null,
   "id": "d0675dc9",
   "metadata": {},
   "outputs": [],
   "source": []
  }
 ],
 "metadata": {
  "kernelspec": {
   "display_name": "Python 3 (ipykernel)",
   "language": "python",
   "name": "python3"
  },
  "language_info": {
   "codemirror_mode": {
    "name": "ipython",
    "version": 3
   },
   "file_extension": ".py",
   "mimetype": "text/x-python",
   "name": "python",
   "nbconvert_exporter": "python",
   "pygments_lexer": "ipython3",
   "version": "3.11.5"
  }
 },
 "nbformat": 4,
 "nbformat_minor": 5
}
